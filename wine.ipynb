{
  "nbformat": 4,
  "nbformat_minor": 0,
  "metadata": {
    "colab": {
      "name": "wine.ipynb",
      "provenance": [],
      "authorship_tag": "ABX9TyP7xnh7IK9Etv6kIWiUyJ3G",
      "include_colab_link": true
    },
    "kernelspec": {
      "name": "python3",
      "display_name": "Python 3"
    },
    "language_info": {
      "name": "python"
    },
    "widgets": {
      "application/vnd.jupyter.widget-state+json": {
        "7808415bd4f244259012f641648fb5ca": {
          "model_module": "@jupyter-widgets/controls",
          "model_name": "VBoxModel",
          "state": {
            "_view_name": "VBoxView",
            "_dom_classes": [],
            "_model_name": "VBoxModel",
            "_view_module": "@jupyter-widgets/controls",
            "_model_module_version": "1.5.0",
            "_view_count": null,
            "_view_module_version": "1.5.0",
            "box_style": "",
            "layout": "IPY_MODEL_fa4525fa2d2846c5acb49f98c0cd8267",
            "_model_module": "@jupyter-widgets/controls",
            "children": [
              "IPY_MODEL_6794a0f674904b378cf62eb197a9e551",
              "IPY_MODEL_a877685080b545cfb01945e5489e6dd6",
              "IPY_MODEL_9fe8828b615448708a0e30a46198bc7e",
              "IPY_MODEL_41a4f3659b3b4fbaa555567b7bcf7317",
              "IPY_MODEL_279b70fb5c1f4420af0b02982a2b29b5"
            ]
          }
        },
        "fa4525fa2d2846c5acb49f98c0cd8267": {
          "model_module": "@jupyter-widgets/base",
          "model_name": "LayoutModel",
          "state": {
            "_view_name": "LayoutView",
            "grid_template_rows": null,
            "right": null,
            "justify_content": null,
            "_view_module": "@jupyter-widgets/base",
            "overflow": null,
            "_model_module_version": "1.2.0",
            "_view_count": null,
            "flex_flow": null,
            "width": null,
            "min_width": null,
            "border": null,
            "align_items": null,
            "bottom": null,
            "_model_module": "@jupyter-widgets/base",
            "top": null,
            "grid_column": null,
            "overflow_y": null,
            "overflow_x": null,
            "grid_auto_flow": null,
            "grid_area": null,
            "grid_template_columns": null,
            "flex": null,
            "_model_name": "LayoutModel",
            "justify_items": null,
            "grid_row": null,
            "max_height": null,
            "align_content": null,
            "visibility": null,
            "align_self": null,
            "height": null,
            "min_height": null,
            "padding": null,
            "grid_auto_rows": null,
            "grid_gap": null,
            "max_width": null,
            "order": null,
            "_view_module_version": "1.2.0",
            "grid_template_areas": null,
            "object_position": null,
            "object_fit": null,
            "grid_auto_columns": null,
            "margin": null,
            "display": null,
            "left": null
          }
        },
        "6794a0f674904b378cf62eb197a9e551": {
          "model_module": "@jupyter-widgets/controls",
          "model_name": "LabelModel",
          "state": {
            "_view_name": "LabelView",
            "style": "IPY_MODEL_8f995dbb535d4f80b3fa0352ec4f42c5",
            "_dom_classes": [],
            "description": "",
            "_model_name": "LabelModel",
            "placeholder": "​",
            "_view_module": "@jupyter-widgets/controls",
            "_model_module_version": "1.5.0",
            "value": "Select your wine!",
            "_view_count": null,
            "_view_module_version": "1.5.0",
            "description_tooltip": null,
            "_model_module": "@jupyter-widgets/controls",
            "layout": "IPY_MODEL_b87c69ca49ec48ebb41dfc96ae533c58"
          }
        },
        "a877685080b545cfb01945e5489e6dd6": {
          "model_module": "@jupyter-widgets/controls",
          "model_name": "FileUploadModel",
          "state": {
            "_view_name": "FileUploadView",
            "_counter": 1,
            "style": "IPY_MODEL_8a299d27ee3f4b85a0be7896091650e2",
            "_dom_classes": [],
            "description": "Upload",
            "multiple": false,
            "_model_name": "FileUploadModel",
            "data": [
              null
            ],
            "button_style": "",
            "_view_module": "@jupyter-widgets/controls",
            "_model_module_version": "1.5.0",
            "accept": "",
            "_view_count": null,
            "disabled": false,
            "_view_module_version": "1.5.0",
            "error": "",
            "description_tooltip": null,
            "metadata": [
              {
                "name": "phillipe fourrier.jpg",
                "type": "image/jpeg",
                "size": 87740,
                "lastModified": 1627440433826
              }
            ],
            "_model_module": "@jupyter-widgets/controls",
            "layout": "IPY_MODEL_91c8f5d27d0e46b299512e9296de8fda",
            "icon": "upload"
          }
        },
        "9fe8828b615448708a0e30a46198bc7e": {
          "model_module": "@jupyter-widgets/controls",
          "model_name": "ButtonModel",
          "state": {
            "_view_name": "ButtonView",
            "style": "IPY_MODEL_a0c7032dca6e4b5181043fe7890e2361",
            "_dom_classes": [],
            "description": "Classify",
            "_model_name": "ButtonModel",
            "button_style": "",
            "_view_module": "@jupyter-widgets/controls",
            "_model_module_version": "1.5.0",
            "tooltip": "",
            "_view_count": null,
            "disabled": false,
            "_view_module_version": "1.5.0",
            "layout": "IPY_MODEL_bf26c180a2ed405788e9d775b33c2b2a",
            "_model_module": "@jupyter-widgets/controls",
            "icon": ""
          }
        },
        "41a4f3659b3b4fbaa555567b7bcf7317": {
          "model_module": "@jupyter-widgets/output",
          "model_name": "OutputModel",
          "state": {
            "_view_name": "OutputView",
            "msg_id": "",
            "_dom_classes": [],
            "_model_name": "OutputModel",
            "outputs": [
              {
                "output_type": "display_data",
                "metadata": {
                  "tags": []
                },
                "image/png": "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\n",
                "text/plain": "<PIL.Image.Image image mode=RGB size=128x128 at 0x7FCEFB8FCBD0>"
              }
            ],
            "_view_module": "@jupyter-widgets/output",
            "_model_module_version": "1.0.0",
            "_view_count": null,
            "_view_module_version": "1.0.0",
            "layout": "IPY_MODEL_a373919f7eff473b86137c0a5c2470c5",
            "_model_module": "@jupyter-widgets/output"
          }
        },
        "279b70fb5c1f4420af0b02982a2b29b5": {
          "model_module": "@jupyter-widgets/controls",
          "model_name": "LabelModel",
          "state": {
            "_view_name": "LabelView",
            "style": "IPY_MODEL_15d746e71eba48cf99d9f8068a197e48",
            "_dom_classes": [],
            "description": "",
            "_model_name": "LabelModel",
            "placeholder": "​",
            "_view_module": "@jupyter-widgets/controls",
            "_model_module_version": "1.5.0",
            "value": "Prediction: fourrier; Probability: 0.9569",
            "_view_count": null,
            "_view_module_version": "1.5.0",
            "description_tooltip": null,
            "_model_module": "@jupyter-widgets/controls",
            "layout": "IPY_MODEL_c4f4e17427f64b3184f87327a064b8d0"
          }
        },
        "8f995dbb535d4f80b3fa0352ec4f42c5": {
          "model_module": "@jupyter-widgets/controls",
          "model_name": "DescriptionStyleModel",
          "state": {
            "_view_name": "StyleView",
            "_model_name": "DescriptionStyleModel",
            "description_width": "",
            "_view_module": "@jupyter-widgets/base",
            "_model_module_version": "1.5.0",
            "_view_count": null,
            "_view_module_version": "1.2.0",
            "_model_module": "@jupyter-widgets/controls"
          }
        },
        "b87c69ca49ec48ebb41dfc96ae533c58": {
          "model_module": "@jupyter-widgets/base",
          "model_name": "LayoutModel",
          "state": {
            "_view_name": "LayoutView",
            "grid_template_rows": null,
            "right": null,
            "justify_content": null,
            "_view_module": "@jupyter-widgets/base",
            "overflow": null,
            "_model_module_version": "1.2.0",
            "_view_count": null,
            "flex_flow": null,
            "width": null,
            "min_width": null,
            "border": null,
            "align_items": null,
            "bottom": null,
            "_model_module": "@jupyter-widgets/base",
            "top": null,
            "grid_column": null,
            "overflow_y": null,
            "overflow_x": null,
            "grid_auto_flow": null,
            "grid_area": null,
            "grid_template_columns": null,
            "flex": null,
            "_model_name": "LayoutModel",
            "justify_items": null,
            "grid_row": null,
            "max_height": null,
            "align_content": null,
            "visibility": null,
            "align_self": null,
            "height": null,
            "min_height": null,
            "padding": null,
            "grid_auto_rows": null,
            "grid_gap": null,
            "max_width": null,
            "order": null,
            "_view_module_version": "1.2.0",
            "grid_template_areas": null,
            "object_position": null,
            "object_fit": null,
            "grid_auto_columns": null,
            "margin": null,
            "display": null,
            "left": null
          }
        },
        "8a299d27ee3f4b85a0be7896091650e2": {
          "model_module": "@jupyter-widgets/controls",
          "model_name": "ButtonStyleModel",
          "state": {
            "_view_name": "StyleView",
            "_model_name": "ButtonStyleModel",
            "_view_module": "@jupyter-widgets/base",
            "_model_module_version": "1.5.0",
            "_view_count": null,
            "button_color": null,
            "font_weight": "",
            "_view_module_version": "1.2.0",
            "_model_module": "@jupyter-widgets/controls"
          }
        },
        "91c8f5d27d0e46b299512e9296de8fda": {
          "model_module": "@jupyter-widgets/base",
          "model_name": "LayoutModel",
          "state": {
            "_view_name": "LayoutView",
            "grid_template_rows": null,
            "right": null,
            "justify_content": null,
            "_view_module": "@jupyter-widgets/base",
            "overflow": null,
            "_model_module_version": "1.2.0",
            "_view_count": null,
            "flex_flow": null,
            "width": null,
            "min_width": null,
            "border": null,
            "align_items": null,
            "bottom": null,
            "_model_module": "@jupyter-widgets/base",
            "top": null,
            "grid_column": null,
            "overflow_y": null,
            "overflow_x": null,
            "grid_auto_flow": null,
            "grid_area": null,
            "grid_template_columns": null,
            "flex": null,
            "_model_name": "LayoutModel",
            "justify_items": null,
            "grid_row": null,
            "max_height": null,
            "align_content": null,
            "visibility": null,
            "align_self": null,
            "height": null,
            "min_height": null,
            "padding": null,
            "grid_auto_rows": null,
            "grid_gap": null,
            "max_width": null,
            "order": null,
            "_view_module_version": "1.2.0",
            "grid_template_areas": null,
            "object_position": null,
            "object_fit": null,
            "grid_auto_columns": null,
            "margin": null,
            "display": null,
            "left": null
          }
        },
        "a0c7032dca6e4b5181043fe7890e2361": {
          "model_module": "@jupyter-widgets/controls",
          "model_name": "ButtonStyleModel",
          "state": {
            "_view_name": "StyleView",
            "_model_name": "ButtonStyleModel",
            "_view_module": "@jupyter-widgets/base",
            "_model_module_version": "1.5.0",
            "_view_count": null,
            "button_color": null,
            "font_weight": "",
            "_view_module_version": "1.2.0",
            "_model_module": "@jupyter-widgets/controls"
          }
        },
        "bf26c180a2ed405788e9d775b33c2b2a": {
          "model_module": "@jupyter-widgets/base",
          "model_name": "LayoutModel",
          "state": {
            "_view_name": "LayoutView",
            "grid_template_rows": null,
            "right": null,
            "justify_content": null,
            "_view_module": "@jupyter-widgets/base",
            "overflow": null,
            "_model_module_version": "1.2.0",
            "_view_count": null,
            "flex_flow": null,
            "width": null,
            "min_width": null,
            "border": null,
            "align_items": null,
            "bottom": null,
            "_model_module": "@jupyter-widgets/base",
            "top": null,
            "grid_column": null,
            "overflow_y": null,
            "overflow_x": null,
            "grid_auto_flow": null,
            "grid_area": null,
            "grid_template_columns": null,
            "flex": null,
            "_model_name": "LayoutModel",
            "justify_items": null,
            "grid_row": null,
            "max_height": null,
            "align_content": null,
            "visibility": null,
            "align_self": null,
            "height": null,
            "min_height": null,
            "padding": null,
            "grid_auto_rows": null,
            "grid_gap": null,
            "max_width": null,
            "order": null,
            "_view_module_version": "1.2.0",
            "grid_template_areas": null,
            "object_position": null,
            "object_fit": null,
            "grid_auto_columns": null,
            "margin": null,
            "display": null,
            "left": null
          }
        },
        "15d746e71eba48cf99d9f8068a197e48": {
          "model_module": "@jupyter-widgets/controls",
          "model_name": "DescriptionStyleModel",
          "state": {
            "_view_name": "StyleView",
            "_model_name": "DescriptionStyleModel",
            "description_width": "",
            "_view_module": "@jupyter-widgets/base",
            "_model_module_version": "1.5.0",
            "_view_count": null,
            "_view_module_version": "1.2.0",
            "_model_module": "@jupyter-widgets/controls"
          }
        },
        "c4f4e17427f64b3184f87327a064b8d0": {
          "model_module": "@jupyter-widgets/base",
          "model_name": "LayoutModel",
          "state": {
            "_view_name": "LayoutView",
            "grid_template_rows": null,
            "right": null,
            "justify_content": null,
            "_view_module": "@jupyter-widgets/base",
            "overflow": null,
            "_model_module_version": "1.2.0",
            "_view_count": null,
            "flex_flow": null,
            "width": null,
            "min_width": null,
            "border": null,
            "align_items": null,
            "bottom": null,
            "_model_module": "@jupyter-widgets/base",
            "top": null,
            "grid_column": null,
            "overflow_y": null,
            "overflow_x": null,
            "grid_auto_flow": null,
            "grid_area": null,
            "grid_template_columns": null,
            "flex": null,
            "_model_name": "LayoutModel",
            "justify_items": null,
            "grid_row": null,
            "max_height": null,
            "align_content": null,
            "visibility": null,
            "align_self": null,
            "height": null,
            "min_height": null,
            "padding": null,
            "grid_auto_rows": null,
            "grid_gap": null,
            "max_width": null,
            "order": null,
            "_view_module_version": "1.2.0",
            "grid_template_areas": null,
            "object_position": null,
            "object_fit": null,
            "grid_auto_columns": null,
            "margin": null,
            "display": null,
            "left": null
          }
        },
        "a373919f7eff473b86137c0a5c2470c5": {
          "model_module": "@jupyter-widgets/base",
          "model_name": "LayoutModel",
          "state": {
            "_view_name": "LayoutView",
            "grid_template_rows": null,
            "right": null,
            "justify_content": null,
            "_view_module": "@jupyter-widgets/base",
            "overflow": null,
            "_model_module_version": "1.2.0",
            "_view_count": null,
            "flex_flow": null,
            "width": null,
            "min_width": null,
            "border": null,
            "align_items": null,
            "bottom": null,
            "_model_module": "@jupyter-widgets/base",
            "top": null,
            "grid_column": null,
            "overflow_y": null,
            "overflow_x": null,
            "grid_auto_flow": null,
            "grid_area": null,
            "grid_template_columns": null,
            "flex": null,
            "_model_name": "LayoutModel",
            "justify_items": null,
            "grid_row": null,
            "max_height": null,
            "align_content": null,
            "visibility": null,
            "align_self": null,
            "height": null,
            "min_height": null,
            "padding": null,
            "grid_auto_rows": null,
            "grid_gap": null,
            "max_width": null,
            "order": null,
            "_view_module_version": "1.2.0",
            "grid_template_areas": null,
            "object_position": null,
            "object_fit": null,
            "grid_auto_columns": null,
            "margin": null,
            "display": null,
            "left": null
          }
        }
      }
    }
  },
  "cells": [
    {
      "cell_type": "markdown",
      "metadata": {
        "id": "view-in-github",
        "colab_type": "text"
      },
      "source": [
        "<a href=\"https://colab.research.google.com/github/devakalpa1/wine/blob/main/wine.ipynb\" target=\"_parent\"><img src=\"https://colab.research.google.com/assets/colab-badge.svg\" alt=\"Open In Colab\"/></a>"
      ]
    },
    {
      "cell_type": "code",
      "metadata": {
        "colab": {
          "base_uri": "https://localhost:8080/"
        },
        "id": "iFrR4NdiFboF",
        "outputId": "c67640f8-0c5c-4d23-bd9e-4e920c27463b"
      },
      "source": [
        "!jupyter serverextension enable voila --sys-prefix"
      ],
      "execution_count": 1,
      "outputs": [
        {
          "output_type": "stream",
          "text": [
            "Enabling: voila\n",
            "- Writing config: /usr/etc/jupyter\n",
            "    - Validating...\n",
            "Error loading server extension voila\n",
            "     \u001b[31m X\u001b[0m is voila importable?\n"
          ],
          "name": "stdout"
        }
      ]
    },
    {
      "cell_type": "code",
      "metadata": {
        "colab": {
          "base_uri": "https://localhost:8080/",
          "height": 1000
        },
        "id": "pkpWhNw8FcIm",
        "outputId": "2b336b7d-2a55-4908-f838-6bbd5609ebbf"
      },
      "source": [
        "!pip install fastbook"
      ],
      "execution_count": 5,
      "outputs": [
        {
          "output_type": "stream",
          "text": [
            "Collecting fastbook\n",
            "  Downloading fastbook-0.0.16-py3-none-any.whl (720 kB)\n",
            "\u001b[K     |████████████████████████████████| 720 kB 4.7 MB/s \n",
            "\u001b[?25hCollecting nbdev>=0.2.38\n",
            "  Downloading nbdev-1.1.19-py3-none-any.whl (46 kB)\n",
            "\u001b[K     |████████████████████████████████| 46 kB 3.1 MB/s \n",
            "\u001b[?25hRequirement already satisfied: requests in /usr/local/lib/python3.7/dist-packages (from fastbook) (2.23.0)\n",
            "Requirement already satisfied: pandas in /usr/local/lib/python3.7/dist-packages (from fastbook) (1.1.5)\n",
            "Collecting fastai>=2.1\n",
            "  Downloading fastai-2.4.1-py3-none-any.whl (188 kB)\n",
            "\u001b[K     |████████████████████████████████| 188 kB 15.7 MB/s \n",
            "\u001b[?25hRequirement already satisfied: ipywidgets in /usr/local/lib/python3.7/dist-packages (from fastbook) (7.6.3)\n",
            "Requirement already satisfied: pip in /usr/local/lib/python3.7/dist-packages (from fastbook) (21.1.3)\n",
            "Collecting sentencepiece\n",
            "  Downloading sentencepiece-0.1.96-cp37-cp37m-manylinux_2_17_x86_64.manylinux2014_x86_64.whl (1.2 MB)\n",
            "\u001b[K     |████████████████████████████████| 1.2 MB 7.7 MB/s \n",
            "\u001b[?25hRequirement already satisfied: packaging in /usr/local/lib/python3.7/dist-packages (from fastbook) (21.0)\n",
            "Requirement already satisfied: pillow>6.0.0 in /usr/local/lib/python3.7/dist-packages (from fastai>=2.1->fastbook) (7.1.2)\n",
            "Requirement already satisfied: spacy<4 in /usr/local/lib/python3.7/dist-packages (from fastai>=2.1->fastbook) (2.2.4)\n",
            "Requirement already satisfied: pyyaml in /usr/local/lib/python3.7/dist-packages (from fastai>=2.1->fastbook) (3.13)\n",
            "Requirement already satisfied: scipy in /usr/local/lib/python3.7/dist-packages (from fastai>=2.1->fastbook) (1.4.1)\n",
            "Requirement already satisfied: matplotlib in /usr/local/lib/python3.7/dist-packages (from fastai>=2.1->fastbook) (3.2.2)\n",
            "Collecting fastcore<1.4,>=1.3.8\n",
            "  Downloading fastcore-1.3.21-py3-none-any.whl (53 kB)\n",
            "\u001b[K     |████████████████████████████████| 53 kB 1.7 MB/s \n",
            "\u001b[?25hRequirement already satisfied: fastprogress>=0.2.4 in /usr/local/lib/python3.7/dist-packages (from fastai>=2.1->fastbook) (1.0.0)\n",
            "Requirement already satisfied: torch<1.10,>=1.7.0 in /usr/local/lib/python3.7/dist-packages (from fastai>=2.1->fastbook) (1.9.0+cu102)\n",
            "Requirement already satisfied: torchvision>=0.8.2 in /usr/local/lib/python3.7/dist-packages (from fastai>=2.1->fastbook) (0.10.0+cu102)\n",
            "Requirement already satisfied: scikit-learn in /usr/local/lib/python3.7/dist-packages (from fastai>=2.1->fastbook) (0.22.2.post1)\n",
            "Requirement already satisfied: numpy in /usr/local/lib/python3.7/dist-packages (from fastprogress>=0.2.4->fastai>=2.1->fastbook) (1.19.5)\n",
            "Collecting nbconvert<6\n",
            "  Downloading nbconvert-5.6.1-py2.py3-none-any.whl (455 kB)\n",
            "\u001b[K     |████████████████████████████████| 455 kB 37.6 MB/s \n",
            "\u001b[?25hRequirement already satisfied: ipykernel in /usr/local/lib/python3.7/dist-packages (from nbdev>=0.2.38->fastbook) (4.10.1)\n",
            "Collecting fastrelease\n",
            "  Downloading fastrelease-0.1.12-py3-none-any.whl (14 kB)\n",
            "Requirement already satisfied: nbformat>=4.4.0 in /usr/local/lib/python3.7/dist-packages (from nbdev>=0.2.38->fastbook) (5.1.3)\n",
            "Requirement already satisfied: jupyter in /usr/local/lib/python3.7/dist-packages (from nbdev>=0.2.38->fastbook) (1.0.0)\n",
            "Collecting ghapi\n",
            "  Downloading ghapi-0.1.19-py3-none-any.whl (51 kB)\n",
            "\u001b[K     |████████████████████████████████| 51 kB 242 kB/s \n",
            "\u001b[?25hRequirement already satisfied: mistune<2,>=0.8.1 in /usr/local/lib/python3.7/dist-packages (from nbconvert<6->nbdev>=0.2.38->fastbook) (0.8.4)\n",
            "Requirement already satisfied: defusedxml in /usr/local/lib/python3.7/dist-packages (from nbconvert<6->nbdev>=0.2.38->fastbook) (0.7.1)\n",
            "Requirement already satisfied: jinja2>=2.4 in /usr/local/lib/python3.7/dist-packages (from nbconvert<6->nbdev>=0.2.38->fastbook) (2.11.3)\n",
            "Requirement already satisfied: bleach in /usr/local/lib/python3.7/dist-packages (from nbconvert<6->nbdev>=0.2.38->fastbook) (3.3.0)\n",
            "Requirement already satisfied: pygments in /usr/local/lib/python3.7/dist-packages (from nbconvert<6->nbdev>=0.2.38->fastbook) (2.6.1)\n",
            "Requirement already satisfied: testpath in /usr/local/lib/python3.7/dist-packages (from nbconvert<6->nbdev>=0.2.38->fastbook) (0.5.0)\n",
            "Requirement already satisfied: pandocfilters>=1.4.1 in /usr/local/lib/python3.7/dist-packages (from nbconvert<6->nbdev>=0.2.38->fastbook) (1.4.3)\n",
            "Requirement already satisfied: jupyter-core in /usr/local/lib/python3.7/dist-packages (from nbconvert<6->nbdev>=0.2.38->fastbook) (4.7.1)\n",
            "Requirement already satisfied: traitlets>=4.2 in /usr/local/lib/python3.7/dist-packages (from nbconvert<6->nbdev>=0.2.38->fastbook) (5.0.5)\n",
            "Requirement already satisfied: entrypoints>=0.2.2 in /usr/local/lib/python3.7/dist-packages (from nbconvert<6->nbdev>=0.2.38->fastbook) (0.3)\n",
            "Requirement already satisfied: MarkupSafe>=0.23 in /usr/local/lib/python3.7/dist-packages (from jinja2>=2.4->nbconvert<6->nbdev>=0.2.38->fastbook) (2.0.1)\n",
            "Requirement already satisfied: ipython-genutils in /usr/local/lib/python3.7/dist-packages (from nbformat>=4.4.0->nbdev>=0.2.38->fastbook) (0.2.0)\n",
            "Requirement already satisfied: jsonschema!=2.5.0,>=2.4 in /usr/local/lib/python3.7/dist-packages (from nbformat>=4.4.0->nbdev>=0.2.38->fastbook) (2.6.0)\n",
            "Requirement already satisfied: setuptools in /usr/local/lib/python3.7/dist-packages (from spacy<4->fastai>=2.1->fastbook) (57.2.0)\n",
            "Requirement already satisfied: thinc==7.4.0 in /usr/local/lib/python3.7/dist-packages (from spacy<4->fastai>=2.1->fastbook) (7.4.0)\n",
            "Requirement already satisfied: preshed<3.1.0,>=3.0.2 in /usr/local/lib/python3.7/dist-packages (from spacy<4->fastai>=2.1->fastbook) (3.0.5)\n",
            "Requirement already satisfied: murmurhash<1.1.0,>=0.28.0 in /usr/local/lib/python3.7/dist-packages (from spacy<4->fastai>=2.1->fastbook) (1.0.5)\n",
            "Requirement already satisfied: catalogue<1.1.0,>=0.0.7 in /usr/local/lib/python3.7/dist-packages (from spacy<4->fastai>=2.1->fastbook) (1.0.0)\n",
            "Requirement already satisfied: tqdm<5.0.0,>=4.38.0 in /usr/local/lib/python3.7/dist-packages (from spacy<4->fastai>=2.1->fastbook) (4.41.1)\n",
            "Requirement already satisfied: plac<1.2.0,>=0.9.6 in /usr/local/lib/python3.7/dist-packages (from spacy<4->fastai>=2.1->fastbook) (1.1.3)\n",
            "Requirement already satisfied: cymem<2.1.0,>=2.0.2 in /usr/local/lib/python3.7/dist-packages (from spacy<4->fastai>=2.1->fastbook) (2.0.5)\n",
            "Requirement already satisfied: srsly<1.1.0,>=1.0.2 in /usr/local/lib/python3.7/dist-packages (from spacy<4->fastai>=2.1->fastbook) (1.0.5)\n",
            "Requirement already satisfied: wasabi<1.1.0,>=0.4.0 in /usr/local/lib/python3.7/dist-packages (from spacy<4->fastai>=2.1->fastbook) (0.8.2)\n",
            "Requirement already satisfied: blis<0.5.0,>=0.4.0 in /usr/local/lib/python3.7/dist-packages (from spacy<4->fastai>=2.1->fastbook) (0.4.1)\n",
            "Requirement already satisfied: importlib-metadata>=0.20 in /usr/local/lib/python3.7/dist-packages (from catalogue<1.1.0,>=0.0.7->spacy<4->fastai>=2.1->fastbook) (4.6.1)\n",
            "Requirement already satisfied: typing-extensions>=3.6.4 in /usr/local/lib/python3.7/dist-packages (from importlib-metadata>=0.20->catalogue<1.1.0,>=0.0.7->spacy<4->fastai>=2.1->fastbook) (3.7.4.3)\n",
            "Requirement already satisfied: zipp>=0.5 in /usr/local/lib/python3.7/dist-packages (from importlib-metadata>=0.20->catalogue<1.1.0,>=0.0.7->spacy<4->fastai>=2.1->fastbook) (3.5.0)\n",
            "Requirement already satisfied: chardet<4,>=3.0.2 in /usr/local/lib/python3.7/dist-packages (from requests->fastbook) (3.0.4)\n",
            "Requirement already satisfied: certifi>=2017.4.17 in /usr/local/lib/python3.7/dist-packages (from requests->fastbook) (2021.5.30)\n",
            "Requirement already satisfied: idna<3,>=2.5 in /usr/local/lib/python3.7/dist-packages (from requests->fastbook) (2.10)\n",
            "Requirement already satisfied: urllib3!=1.25.0,!=1.25.1,<1.26,>=1.21.1 in /usr/local/lib/python3.7/dist-packages (from requests->fastbook) (1.24.3)\n",
            "Requirement already satisfied: webencodings in /usr/local/lib/python3.7/dist-packages (from bleach->nbconvert<6->nbdev>=0.2.38->fastbook) (0.5.1)\n",
            "Requirement already satisfied: six>=1.9.0 in /usr/local/lib/python3.7/dist-packages (from bleach->nbconvert<6->nbdev>=0.2.38->fastbook) (1.15.0)\n",
            "Requirement already satisfied: tornado>=4.0 in /usr/local/lib/python3.7/dist-packages (from ipykernel->nbdev>=0.2.38->fastbook) (6.1)\n",
            "Requirement already satisfied: ipython>=4.0.0 in /usr/local/lib/python3.7/dist-packages (from ipykernel->nbdev>=0.2.38->fastbook) (5.5.0)\n",
            "Requirement already satisfied: jupyter-client in /usr/local/lib/python3.7/dist-packages (from ipykernel->nbdev>=0.2.38->fastbook) (6.1.12)\n",
            "Requirement already satisfied: prompt-toolkit<2.0.0,>=1.0.4 in /usr/local/lib/python3.7/dist-packages (from ipython>=4.0.0->ipykernel->nbdev>=0.2.38->fastbook) (1.0.18)\n",
            "Requirement already satisfied: simplegeneric>0.8 in /usr/local/lib/python3.7/dist-packages (from ipython>=4.0.0->ipykernel->nbdev>=0.2.38->fastbook) (0.8.1)\n",
            "Requirement already satisfied: pickleshare in /usr/local/lib/python3.7/dist-packages (from ipython>=4.0.0->ipykernel->nbdev>=0.2.38->fastbook) (0.7.5)\n",
            "Requirement already satisfied: pexpect in /usr/local/lib/python3.7/dist-packages (from ipython>=4.0.0->ipykernel->nbdev>=0.2.38->fastbook) (4.8.0)\n",
            "Requirement already satisfied: decorator in /usr/local/lib/python3.7/dist-packages (from ipython>=4.0.0->ipykernel->nbdev>=0.2.38->fastbook) (4.4.2)\n",
            "Requirement already satisfied: wcwidth in /usr/local/lib/python3.7/dist-packages (from prompt-toolkit<2.0.0,>=1.0.4->ipython>=4.0.0->ipykernel->nbdev>=0.2.38->fastbook) (0.2.5)\n",
            "Requirement already satisfied: jupyterlab-widgets>=1.0.0 in /usr/local/lib/python3.7/dist-packages (from ipywidgets->fastbook) (1.0.0)\n",
            "Requirement already satisfied: widgetsnbextension~=3.5.0 in /usr/local/lib/python3.7/dist-packages (from ipywidgets->fastbook) (3.5.1)\n",
            "Requirement already satisfied: notebook>=4.4.1 in /usr/local/lib/python3.7/dist-packages (from widgetsnbextension~=3.5.0->ipywidgets->fastbook) (5.3.1)\n",
            "Requirement already satisfied: Send2Trash in /usr/local/lib/python3.7/dist-packages (from notebook>=4.4.1->widgetsnbextension~=3.5.0->ipywidgets->fastbook) (1.7.1)\n",
            "Requirement already satisfied: terminado>=0.8.1 in /usr/local/lib/python3.7/dist-packages (from notebook>=4.4.1->widgetsnbextension~=3.5.0->ipywidgets->fastbook) (0.10.1)\n",
            "Requirement already satisfied: pyzmq>=13 in /usr/local/lib/python3.7/dist-packages (from jupyter-client->ipykernel->nbdev>=0.2.38->fastbook) (22.1.0)\n",
            "Requirement already satisfied: python-dateutil>=2.1 in /usr/local/lib/python3.7/dist-packages (from jupyter-client->ipykernel->nbdev>=0.2.38->fastbook) (2.8.1)\n",
            "Requirement already satisfied: ptyprocess in /usr/local/lib/python3.7/dist-packages (from terminado>=0.8.1->notebook>=4.4.1->widgetsnbextension~=3.5.0->ipywidgets->fastbook) (0.7.0)\n",
            "Requirement already satisfied: jupyter-console in /usr/local/lib/python3.7/dist-packages (from jupyter->nbdev>=0.2.38->fastbook) (5.2.0)\n",
            "Requirement already satisfied: qtconsole in /usr/local/lib/python3.7/dist-packages (from jupyter->nbdev>=0.2.38->fastbook) (5.1.1)\n",
            "Requirement already satisfied: kiwisolver>=1.0.1 in /usr/local/lib/python3.7/dist-packages (from matplotlib->fastai>=2.1->fastbook) (1.3.1)\n",
            "Requirement already satisfied: cycler>=0.10 in /usr/local/lib/python3.7/dist-packages (from matplotlib->fastai>=2.1->fastbook) (0.10.0)\n",
            "Requirement already satisfied: pyparsing!=2.0.4,!=2.1.2,!=2.1.6,>=2.0.1 in /usr/local/lib/python3.7/dist-packages (from matplotlib->fastai>=2.1->fastbook) (2.4.7)\n",
            "Requirement already satisfied: pytz>=2017.2 in /usr/local/lib/python3.7/dist-packages (from pandas->fastbook) (2018.9)\n",
            "Requirement already satisfied: qtpy in /usr/local/lib/python3.7/dist-packages (from qtconsole->jupyter->nbdev>=0.2.38->fastbook) (1.9.0)\n",
            "Requirement already satisfied: joblib>=0.11 in /usr/local/lib/python3.7/dist-packages (from scikit-learn->fastai>=2.1->fastbook) (1.0.1)\n",
            "Installing collected packages: nbconvert, fastcore, ghapi, fastrelease, sentencepiece, nbdev, fastai, fastbook\n",
            "  Attempting uninstall: nbconvert\n",
            "    Found existing installation: nbconvert 6.1.0\n",
            "    Uninstalling nbconvert-6.1.0:\n",
            "      Successfully uninstalled nbconvert-6.1.0\n",
            "  Attempting uninstall: fastai\n",
            "    Found existing installation: fastai 1.0.61\n",
            "    Uninstalling fastai-1.0.61:\n",
            "      Successfully uninstalled fastai-1.0.61\n",
            "\u001b[31mERROR: pip's dependency resolver does not currently take into account all the packages that are installed. This behaviour is the source of the following dependency conflicts.\n",
            "voila 0.2.10 requires nbconvert<7,>=6.0.0, but you have nbconvert 5.6.1 which is incompatible.\n",
            "google-colab 1.0.0 requires tornado~=5.1.0; python_version >= \"3.0\", but you have tornado 6.1 which is incompatible.\u001b[0m\n",
            "Successfully installed fastai-2.4.1 fastbook-0.0.16 fastcore-1.3.21 fastrelease-0.1.12 ghapi-0.1.19 nbconvert-5.6.1 nbdev-1.1.19 sentencepiece-0.1.96\n"
          ],
          "name": "stdout"
        },
        {
          "output_type": "display_data",
          "data": {
            "application/vnd.colab-display-data+json": {
              "pip_warning": {
                "packages": [
                  "fastai",
                  "nbconvert"
                ]
              }
            }
          },
          "metadata": {
            "tags": []
          }
        }
      ]
    },
    {
      "cell_type": "code",
      "metadata": {
        "id": "EhZ1abiXGc-U"
      },
      "source": [
        "from fastai.vision.all import *\n",
        "from fastai.vision.widgets import *"
      ],
      "execution_count": 1,
      "outputs": []
    },
    {
      "cell_type": "code",
      "metadata": {
        "id": "yavv5KfDGvVT"
      },
      "source": [
        "path = Path()\n",
        "learn_inf = load_learner(path/'export.pkl', cpu=True)\n",
        "btn_upload = widgets.FileUpload()\n",
        "out_pl = widgets.Output()\n",
        "lbl_pred = widgets.Label()\n",
        "btn_run = widgets.Button(description='Classify')\n",
        "btn_run\n",
        "def on_click_classify(change):\n",
        "  img = PILImage.create(btn_upload.data[-1])\n",
        "  out_pl.clear_output()\n",
        "  with out_pl: display(img.to_thumb(128,128))\n",
        "  pred,pred_idx,probs = learn_inf.predict(img)\n",
        "  lbl_pred.value = f'Prediction: {pred}; Probability: {probs[pred_idx]:.04f}'\n",
        "\n",
        "btn_run.on_click(on_click_classify)"
      ],
      "execution_count": 11,
      "outputs": []
    },
    {
      "cell_type": "code",
      "metadata": {
        "id": "qZsMISbVHJIc"
      },
      "source": [
        "def on_data_change(change):\n",
        "  lbl_pred.value = ''\n",
        "  img = PILImage.create(btn_upload.data[-1])\n",
        "  out_pl.clear_output()\n",
        "  with out_pl: display(img.to_thumb(128,128))\n",
        "  pred,pred_idx,probs = learn_inf.predict(img)\n",
        "  lbl_pred.value = f'Prediction: {pred}; Probability: {probs[pred_idx]:.04f}'"
      ],
      "execution_count": 12,
      "outputs": []
    },
    {
      "cell_type": "code",
      "metadata": {
        "id": "zDQPPfCVMLur"
      },
      "source": [
        "btn_upload.observe(on_data_change, names=['data'])"
      ],
      "execution_count": 13,
      "outputs": []
    },
    {
      "cell_type": "code",
      "metadata": {
        "colab": {
          "base_uri": "https://localhost:8080/",
          "height": 327,
          "referenced_widgets": [
            "7808415bd4f244259012f641648fb5ca",
            "fa4525fa2d2846c5acb49f98c0cd8267",
            "6794a0f674904b378cf62eb197a9e551",
            "a877685080b545cfb01945e5489e6dd6",
            "9fe8828b615448708a0e30a46198bc7e",
            "41a4f3659b3b4fbaa555567b7bcf7317",
            "279b70fb5c1f4420af0b02982a2b29b5",
            "8f995dbb535d4f80b3fa0352ec4f42c5",
            "b87c69ca49ec48ebb41dfc96ae533c58",
            "8a299d27ee3f4b85a0be7896091650e2",
            "91c8f5d27d0e46b299512e9296de8fda",
            "a0c7032dca6e4b5181043fe7890e2361",
            "bf26c180a2ed405788e9d775b33c2b2a",
            "15d746e71eba48cf99d9f8068a197e48",
            "c4f4e17427f64b3184f87327a064b8d0",
            "a373919f7eff473b86137c0a5c2470c5"
          ]
        },
        "id": "_ohhTSWIMRnr",
        "outputId": "b7a06b04-1cd4-4f5f-d3ac-1c11425e081b"
      },
      "source": [
        "display(VBox([widgets.Label('Select your wine!'), btn_upload, btn_run, out_pl, lbl_pred]))"
      ],
      "execution_count": 14,
      "outputs": [
        {
          "output_type": "display_data",
          "data": {
            "application/vnd.jupyter.widget-view+json": {
              "model_id": "7808415bd4f244259012f641648fb5ca",
              "version_minor": 0,
              "version_major": 2
            },
            "text/plain": [
              "VBox(children=(Label(value='Select your wine!'), FileUpload(value={}, description='Upload'), Button(descriptio…"
            ]
          },
          "metadata": {
            "tags": []
          }
        },
        {
          "output_type": "display_data",
          "data": {
            "text/html": [
              ""
            ],
            "text/plain": [
              "<IPython.core.display.HTML object>"
            ]
          },
          "metadata": {
            "tags": []
          }
        },
        {
          "output_type": "stream",
          "text": [
            "/usr/local/lib/python3.7/dist-packages/torch/nn/functional.py:718: UserWarning: Named tensors and all their associated APIs are an experimental feature and subject to change. Please do not use them for anything important until they are released as stable. (Triggered internally at  /pytorch/c10/core/TensorImpl.h:1156.)\n",
            "  return torch.max_pool2d(input, kernel_size, stride, padding, dilation, ceil_mode)\n"
          ],
          "name": "stderr"
        }
      ]
    },
    {
      "cell_type": "code",
      "metadata": {
        "id": "q_dNYrXoMamj"
      },
      "source": [
        ""
      ],
      "execution_count": null,
      "outputs": []
    }
  ]
}